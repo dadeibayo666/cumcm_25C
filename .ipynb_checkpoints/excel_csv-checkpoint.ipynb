{
 "cells": [
  {
   "cell_type": "code",
   "execution_count": null,
   "metadata": {},
   "outputs": [],
   "source": [
    "import pandas as pd\n",
    "\n",
    "file_name=\"附件.xlsx\"\n",
    "excel=pd.ExcelFile(file_name)\n",
    "sheet_names=excel.sheet_names  \n",
    "for i, sheet in enumerate(sheet_names):\n",
    "    pd.read_excel(file_name,sheet_name=sheet).to_csv(f\"data_{i}.csv\")"
   ]
  }
 ],
 "metadata": {
  "language_info": {
   "name": "python"
  }
 },
 "nbformat": 4,
 "nbformat_minor": 2
}
